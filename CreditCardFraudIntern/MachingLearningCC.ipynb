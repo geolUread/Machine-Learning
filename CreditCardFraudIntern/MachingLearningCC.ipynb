{
 "cells": [
  {
   "cell_type": "code",
   "execution_count": 14,
   "metadata": {},
   "outputs": [],
   "source": [
    "'''\n",
    "In this notebook, based off of the VisualCreditCard book, we will be implementing machine learning.\n",
    "The purpose of this is to help the machine to better distinguish frand from non-fraud/normal transactions.\n",
    "I will be implementing 2 different machine leanring algorithms. Random Forest and Isolation Forest. \n",
    "\n",
    "Both algorithm will be running twice through two different data sets. One which has a broad view, big, \n",
    "and another which has a much more narrow view, small, to see if it will help the algorithms better pinpoint\n",
    "fraud transactions.\n",
    "\n",
    "August 9. 2020\n",
    "aharris26@live.esu.edu\n",
    "Arlyn Harris\n",
    "'''\n",
    "#Python packages to anaylze and view the dataset\n",
    "%matplotlib inline\n",
    "import pandas as pd\n",
    "import matplotlib.pyplot as plt\n",
    "import numpy as np\n",
    "import seaborn as sb\n",
    "import time\n",
    "\n",
    "#Machine learning packages to help evaluate the results\n",
    "from sklearn.model_selection import train_test_split\n",
    "from sklearn.metrics import classification_report, accuracy_score,precision_score,recall_score,f1_score,matthews_corrcoef,confusion_matrix\n",
    "\n",
    "#Supervised machine learning: Random Forest\n",
    "from sklearn.ensemble import RandomForestClassifier\n",
    "\n",
    "#Unsupervised machine learning : Isolation Forest\n",
    "from sklearn.ensemble import IsolationForest"
   ]
  },
  {
   "cell_type": "code",
   "execution_count": 15,
   "metadata": {},
   "outputs": [
    {
     "data": {
      "text/html": [
       "<div>\n",
       "<style scoped>\n",
       "    .dataframe tbody tr th:only-of-type {\n",
       "        vertical-align: middle;\n",
       "    }\n",
       "\n",
       "    .dataframe tbody tr th {\n",
       "        vertical-align: top;\n",
       "    }\n",
       "\n",
       "    .dataframe thead th {\n",
       "        text-align: right;\n",
       "    }\n",
       "</style>\n",
       "<table border=\"1\" class=\"dataframe\">\n",
       "  <thead>\n",
       "    <tr style=\"text-align: right;\">\n",
       "      <th></th>\n",
       "      <th>Time</th>\n",
       "      <th>V1</th>\n",
       "      <th>V2</th>\n",
       "      <th>V3</th>\n",
       "      <th>V4</th>\n",
       "      <th>V5</th>\n",
       "      <th>V6</th>\n",
       "      <th>V7</th>\n",
       "      <th>V8</th>\n",
       "      <th>V9</th>\n",
       "      <th>...</th>\n",
       "      <th>V21</th>\n",
       "      <th>V22</th>\n",
       "      <th>V23</th>\n",
       "      <th>V24</th>\n",
       "      <th>V25</th>\n",
       "      <th>V26</th>\n",
       "      <th>V27</th>\n",
       "      <th>V28</th>\n",
       "      <th>Amount</th>\n",
       "      <th>Class</th>\n",
       "    </tr>\n",
       "  </thead>\n",
       "  <tbody>\n",
       "    <tr>\n",
       "      <th>0</th>\n",
       "      <td>0.0</td>\n",
       "      <td>-1.359807</td>\n",
       "      <td>-0.072781</td>\n",
       "      <td>2.536347</td>\n",
       "      <td>1.378155</td>\n",
       "      <td>-0.338321</td>\n",
       "      <td>0.462388</td>\n",
       "      <td>0.239599</td>\n",
       "      <td>0.098698</td>\n",
       "      <td>0.363787</td>\n",
       "      <td>...</td>\n",
       "      <td>-0.018307</td>\n",
       "      <td>0.277838</td>\n",
       "      <td>-0.110474</td>\n",
       "      <td>0.066928</td>\n",
       "      <td>0.128539</td>\n",
       "      <td>-0.189115</td>\n",
       "      <td>0.133558</td>\n",
       "      <td>-0.021053</td>\n",
       "      <td>149.62</td>\n",
       "      <td>0</td>\n",
       "    </tr>\n",
       "    <tr>\n",
       "      <th>1</th>\n",
       "      <td>0.0</td>\n",
       "      <td>1.191857</td>\n",
       "      <td>0.266151</td>\n",
       "      <td>0.166480</td>\n",
       "      <td>0.448154</td>\n",
       "      <td>0.060018</td>\n",
       "      <td>-0.082361</td>\n",
       "      <td>-0.078803</td>\n",
       "      <td>0.085102</td>\n",
       "      <td>-0.255425</td>\n",
       "      <td>...</td>\n",
       "      <td>-0.225775</td>\n",
       "      <td>-0.638672</td>\n",
       "      <td>0.101288</td>\n",
       "      <td>-0.339846</td>\n",
       "      <td>0.167170</td>\n",
       "      <td>0.125895</td>\n",
       "      <td>-0.008983</td>\n",
       "      <td>0.014724</td>\n",
       "      <td>2.69</td>\n",
       "      <td>0</td>\n",
       "    </tr>\n",
       "    <tr>\n",
       "      <th>2</th>\n",
       "      <td>1.0</td>\n",
       "      <td>-1.358354</td>\n",
       "      <td>-1.340163</td>\n",
       "      <td>1.773209</td>\n",
       "      <td>0.379780</td>\n",
       "      <td>-0.503198</td>\n",
       "      <td>1.800499</td>\n",
       "      <td>0.791461</td>\n",
       "      <td>0.247676</td>\n",
       "      <td>-1.514654</td>\n",
       "      <td>...</td>\n",
       "      <td>0.247998</td>\n",
       "      <td>0.771679</td>\n",
       "      <td>0.909412</td>\n",
       "      <td>-0.689281</td>\n",
       "      <td>-0.327642</td>\n",
       "      <td>-0.139097</td>\n",
       "      <td>-0.055353</td>\n",
       "      <td>-0.059752</td>\n",
       "      <td>378.66</td>\n",
       "      <td>0</td>\n",
       "    </tr>\n",
       "    <tr>\n",
       "      <th>3</th>\n",
       "      <td>1.0</td>\n",
       "      <td>-0.966272</td>\n",
       "      <td>-0.185226</td>\n",
       "      <td>1.792993</td>\n",
       "      <td>-0.863291</td>\n",
       "      <td>-0.010309</td>\n",
       "      <td>1.247203</td>\n",
       "      <td>0.237609</td>\n",
       "      <td>0.377436</td>\n",
       "      <td>-1.387024</td>\n",
       "      <td>...</td>\n",
       "      <td>-0.108300</td>\n",
       "      <td>0.005274</td>\n",
       "      <td>-0.190321</td>\n",
       "      <td>-1.175575</td>\n",
       "      <td>0.647376</td>\n",
       "      <td>-0.221929</td>\n",
       "      <td>0.062723</td>\n",
       "      <td>0.061458</td>\n",
       "      <td>123.50</td>\n",
       "      <td>0</td>\n",
       "    </tr>\n",
       "    <tr>\n",
       "      <th>4</th>\n",
       "      <td>2.0</td>\n",
       "      <td>-1.158233</td>\n",
       "      <td>0.877737</td>\n",
       "      <td>1.548718</td>\n",
       "      <td>0.403034</td>\n",
       "      <td>-0.407193</td>\n",
       "      <td>0.095921</td>\n",
       "      <td>0.592941</td>\n",
       "      <td>-0.270533</td>\n",
       "      <td>0.817739</td>\n",
       "      <td>...</td>\n",
       "      <td>-0.009431</td>\n",
       "      <td>0.798278</td>\n",
       "      <td>-0.137458</td>\n",
       "      <td>0.141267</td>\n",
       "      <td>-0.206010</td>\n",
       "      <td>0.502292</td>\n",
       "      <td>0.219422</td>\n",
       "      <td>0.215153</td>\n",
       "      <td>69.99</td>\n",
       "      <td>0</td>\n",
       "    </tr>\n",
       "  </tbody>\n",
       "</table>\n",
       "<p>5 rows × 31 columns</p>\n",
       "</div>"
      ],
      "text/plain": [
       "   Time        V1        V2        V3        V4        V5        V6        V7  \\\n",
       "0   0.0 -1.359807 -0.072781  2.536347  1.378155 -0.338321  0.462388  0.239599   \n",
       "1   0.0  1.191857  0.266151  0.166480  0.448154  0.060018 -0.082361 -0.078803   \n",
       "2   1.0 -1.358354 -1.340163  1.773209  0.379780 -0.503198  1.800499  0.791461   \n",
       "3   1.0 -0.966272 -0.185226  1.792993 -0.863291 -0.010309  1.247203  0.237609   \n",
       "4   2.0 -1.158233  0.877737  1.548718  0.403034 -0.407193  0.095921  0.592941   \n",
       "\n",
       "         V8        V9  ...       V21       V22       V23       V24       V25  \\\n",
       "0  0.098698  0.363787  ... -0.018307  0.277838 -0.110474  0.066928  0.128539   \n",
       "1  0.085102 -0.255425  ... -0.225775 -0.638672  0.101288 -0.339846  0.167170   \n",
       "2  0.247676 -1.514654  ...  0.247998  0.771679  0.909412 -0.689281 -0.327642   \n",
       "3  0.377436 -1.387024  ... -0.108300  0.005274 -0.190321 -1.175575  0.647376   \n",
       "4 -0.270533  0.817739  ... -0.009431  0.798278 -0.137458  0.141267 -0.206010   \n",
       "\n",
       "        V26       V27       V28  Amount  Class  \n",
       "0 -0.189115  0.133558 -0.021053  149.62      0  \n",
       "1  0.125895 -0.008983  0.014724    2.69      0  \n",
       "2 -0.139097 -0.055353 -0.059752  378.66      0  \n",
       "3 -0.221929  0.062723  0.061458  123.50      0  \n",
       "4  0.502292  0.219422  0.215153   69.99      0  \n",
       "\n",
       "[5 rows x 31 columns]"
      ]
     },
     "execution_count": 15,
     "metadata": {},
     "output_type": "execute_result"
    }
   ],
   "source": [
    "#Import and peak of data set\n",
    "credit = pd.read_csv(\"C:\\\\Users\\\\arlyn\\\\Documents\\\\ESU\\\\CreditCardFraudIntern\\\\creditcard.csv\")\n",
    "credit.head()"
   ]
  },
  {
   "cell_type": "code",
   "execution_count": 16,
   "metadata": {},
   "outputs": [],
   "source": [
    "#Seperate into two categories (just in case)\n",
    "fraud = credit[credit[\"Class\"]==1]\n",
    "nonfraud = credit[credit[\"Class\"]==0]"
   ]
  },
  {
   "cell_type": "code",
   "execution_count": 17,
   "metadata": {},
   "outputs": [],
   "source": [
    "#We will now split the data\n",
    "#Lable used for Random Forest and verifying prediction in Isolation Forest\n",
    "target = credit['Class']\n",
    "\n",
    "#Big dataset for the ML\n",
    "big = credit.drop([\"Time\", \"Amount\", \"Class\"], axis=1)\n",
    "\n",
    "#Small dataset for the ML\n",
    "small = credit[['V1', 'V2', 'V3','V4','V7','V8', 'V9','V10','V11','V12','V14','V16', 'V17','V18']]"
   ]
  },
  {
   "cell_type": "code",
   "execution_count": 18,
   "metadata": {},
   "outputs": [
    {
     "name": "stdout",
     "output_type": "stream",
     "text": [
      "Random Forest ML Algorithm\n",
      "The accuracy is:  0.9996137776061234\n",
      "The Precision is:  0.9876543209876543\n",
      "The Recall is:  0.7920792079207921\n",
      "The F1-Score is:  0.8791208791208791\n",
      "\n",
      "Number of errors:  22\n",
      "\n",
      "Time elapsed in seconds:  212.32897901535034\n"
     ]
    },
    {
     "data": {
      "image/png": "[encoded data removed]",
      "text/plain": [
       "<Figure size 864x864 with 2 Axes>"
      ]
     },
     "metadata": {
      "needs_background": "light"
     },
     "output_type": "display_data"
    }
   ],
   "source": [
    "#Random Forest Implementation - big data\n",
    "RF = RandomForestClassifier()\n",
    "\n",
    "start = time.time()\n",
    "#BIG data\n",
    "#Split the data into train and test -- Using the 80/20 rule for split\n",
    "x_train, x_test, y_train, y_test = train_test_split(big, target, test_size=0.2)\n",
    "\n",
    "#Train the model\n",
    "RF.fit(x_train, y_train)\n",
    "\n",
    "#Input what the ML predicted from the test set\n",
    "yPred = RF.predict(x_test)\n",
    "\n",
    "#Evaluating the ML\n",
    "no_fraud = len(fraud)\n",
    "no_error = (yPred != y_test).sum()\n",
    "end = time.time() \n",
    "\n",
    "#Printing results\n",
    "accu = accuracy_score(y_test, yPred)\n",
    "prec = precision_score(y_test, yPred)\n",
    "recall = recall_score(y_test, yPred)\n",
    "f1 = f1_score(y_test, yPred)\n",
    "total = end-start\n",
    "\n",
    "print(\"Random Forest ML Algorithm\")\n",
    "print(\"The accuracy is: \", accu)\n",
    "print(\"The Precision is: \", prec)\n",
    "print(\"The Recall is: \", recall)\n",
    "print(\"The F1-Score is: \", f1)\n",
    "print(\"\\nNumber of errors: \", no_error)\n",
    "print(\"\\nTime elapsed in seconds: \", total)\n",
    "\n",
    "#printing the confusion matrix for better visuals\n",
    "classes = ['Non-Fraud', 'Fraud']\n",
    "conf_matrix = confusion_matrix(y_test, yPred)\n",
    "plt.figure(figsize=(12, 12))\n",
    "sb.heatmap(conf_matrix, xticklabels=classes, yticklabels=classes, annot=True, fmt=\"d\");\n",
    "plt.title(\"Confusion matrix\")\n",
    "plt.ylabel('Actual')\n",
    "plt.xlabel('Predicted')\n",
    "plt.show()"
   ]
  },
  {
   "cell_type": "code",
   "execution_count": 19,
   "metadata": {},
   "outputs": [
    {
     "data": {
      "text/plain": [
       "(56962, 28)"
      ]
     },
     "execution_count": 19,
     "metadata": {},
     "output_type": "execute_result"
    }
   ],
   "source": [
    "#I'll usually print the shape of the test class to make sure that all the values in the heatmap above are accounted for.\n",
    "x_test.shape"
   ]
  },
  {
   "cell_type": "code",
   "execution_count": 20,
   "metadata": {},
   "outputs": [
    {
     "name": "stdout",
     "output_type": "stream",
     "text": [
      "Random Forest ML Algorithm\n",
      "The accuracy is:  0.9995435553526912\n",
      "The Precision is:  0.9058823529411765\n",
      "The Recall is:  0.8105263157894737\n",
      "The F1-Score is:  0.8555555555555556\n",
      "\n",
      "Number of errors:  26\n",
      "\n",
      "Time elapsed in seconds:  112.71508288383484\n"
     ]
    },
    {
     "data": {
      "image/png": "[encoded data removed]",
      "text/plain": [
       "<Figure size 864x864 with 2 Axes>"
      ]
     },
     "metadata": {
      "needs_background": "light"
     },
     "output_type": "display_data"
    }
   ],
   "source": [
    "#Random Forest Implementation - small data\n",
    "\n",
    "start = time.time()\n",
    "\n",
    "#Split the data into train and test -- Using the 80/20 rule for split\n",
    "x_train, x_test, y_train, y_test = train_test_split(small, target, test_size=0.2)\n",
    "\n",
    "#Train the model\n",
    "RF.fit(x_train, y_train)\n",
    "\n",
    "#Input what the ML predicted from the test set\n",
    "yPred = RF.predict(x_test)\n",
    "\n",
    "#Evaluating the ML\n",
    "no_fraud = len(fraud)\n",
    "no_error = (yPred != y_test).sum()\n",
    "end = time.time()\n",
    "\n",
    "#Printing results\n",
    "accu = accuracy_score(y_test, yPred)\n",
    "prec = precision_score(y_test, yPred)\n",
    "recall = recall_score(y_test, yPred)\n",
    "f1 = f1_score(y_test, yPred)\n",
    "total = end - start\n",
    "\n",
    "print(\"Random Forest ML Algorithm\")\n",
    "print(\"The accuracy is: \", accu)\n",
    "print(\"The Precision is: \", prec)\n",
    "print(\"The Recall is: \", recall)\n",
    "print(\"The F1-Score is: \", f1)\n",
    "print(\"\\nNumber of errors: \", no_error)\n",
    "print(\"\\nTime elapsed in seconds: \", total)\n",
    "\n",
    "#printing the confusion matrix for better visuals\n",
    "classes = ['Non-Fraud', 'Fraud']\n",
    "conf_matrix = confusion_matrix(y_test, yPred)\n",
    "plt.figure(figsize=(12, 12))\n",
    "sb.heatmap(conf_matrix, xticklabels=classes, yticklabels=classes, annot=True, fmt=\"d\");\n",
    "plt.title(\"Confusion matrix\")\n",
    "plt.ylabel('Actual')\n",
    "plt.xlabel('Predicted')\n",
    "plt.show()"
   ]
  },
  {
   "cell_type": "code",
   "execution_count": 21,
   "metadata": {},
   "outputs": [
    {
     "data": {
      "text/plain": [
       "(56962, 14)"
      ]
     },
     "execution_count": 21,
     "metadata": {},
     "output_type": "execute_result"
    }
   ],
   "source": [
    "x_test.shape"
   ]
  },
  {
   "cell_type": "code",
   "execution_count": 22,
   "metadata": {},
   "outputs": [
    {
     "name": "stdout",
     "output_type": "stream",
     "text": [
      "Isolation Forest ML Algorithm\n",
      "The accuracy is:  0.9696601558248217\n",
      "The Precision is:  0.044494130799329235\n",
      "The Recall is:  0.8089430894308943\n",
      "The F1-Score is:  0.0843488396736251\n",
      "\n",
      "Number of errors:  8641\n",
      "\n",
      "Time elapsed in seconds:  30.196098566055298\n"
     ]
    },
    {
     "data": {
      "image/png": "[encoded data removed]",
      "text/plain": [
       "<Figure size 864x864 with 2 Axes>"
      ]
     },
     "metadata": {
      "needs_background": "light"
     },
     "output_type": "display_data"
    }
   ],
   "source": [
    "#Isolation Forest Implementation - big data\n",
    "\n",
    "#Set up the algorithm\n",
    "IFA = IsolationForest()\n",
    "\n",
    "start = time.time()\n",
    "#Train the model on the whole dataset\n",
    "IFA.fit(big)\n",
    "\n",
    "scores_pred = IFA.decision_function(big)\n",
    "\n",
    "#Get the model prediction\n",
    "yPred = IFA.predict(big)\n",
    "\n",
    "#Classify the results\n",
    "yPred[yPred == 1] = 0\n",
    "yPred[yPred == -1] = 1\n",
    "\n",
    "#Count the number of  values that were wrong\n",
    "error = (yPred != target).sum()\n",
    "end = time.time()\n",
    "\n",
    "#Evaluate the results\n",
    "accu = accuracy_score(target, yPred)\n",
    "prec = precision_score(target, yPred)\n",
    "recall = recall_score(target, yPred)\n",
    "f1 = f1_score(target, yPred)\n",
    "total = end-start\n",
    "\n",
    "print(\"Isolation Forest ML Algorithm\")\n",
    "print(\"The accuracy is: \", accu)\n",
    "print(\"The Precision is: \", prec)\n",
    "print(\"The Recall is: \", recall)\n",
    "print(\"The F1-Score is: \", f1)\n",
    "print(\"\\nNumber of errors: \", error)\n",
    "print(\"\\nTime elapsed in seconds: \", total)\n",
    "\n",
    "#printing the confusion matrix for better visuals\n",
    "classes = ['Non-Fraud', 'Fraud']\n",
    "conf_matrix = confusion_matrix(target, yPred)\n",
    "plt.figure(figsize=(12, 12))\n",
    "sb.heatmap(conf_matrix, xticklabels=classes, yticklabels=classes, annot=True, fmt=\"d\");\n",
    "plt.title(\"Confusion matrix\")\n",
    "plt.ylabel('Actual')\n",
    "plt.xlabel('Predicted')\n",
    "plt.show()"
   ]
  },
  {
   "cell_type": "code",
   "execution_count": 23,
   "metadata": {},
   "outputs": [
    {
     "name": "stdout",
     "output_type": "stream",
     "text": [
      "Isolation Forest ML Algorithm\n",
      "The accuracy is:  0.946918439504647\n",
      "The Precision is:  0.028193548387096774\n",
      "The Recall is:  0.8882113821138211\n",
      "The F1-Score is:  0.05465232616308154\n",
      "\n",
      "Number of errors:  15118\n",
      "\n",
      "Time elapsed in seconds:  21.969682216644287\n"
     ]
    },
    {
     "data": {
      "image/png": "[encoded data removed]",
      "text/plain": [
       "<Figure size 864x864 with 2 Axes>"
      ]
     },
     "metadata": {
      "needs_background": "light"
     },
     "output_type": "display_data"
    }
   ],
   "source": [
    "#Isolation Forest Implementation - small data\n",
    "\n",
    "#Set up the algorithm\n",
    "IFA = IsolationForest()\n",
    "\n",
    "start = time.time()\n",
    "#Train the model on the whole dataset\n",
    "IFA.fit(small)\n",
    "\n",
    "scores_pred = IFA.decision_function(small)\n",
    "\n",
    "#Get the model prediction\n",
    "yPred = IFA.predict(small)\n",
    "\n",
    "#Classify the results\n",
    "yPred[yPred == 1] = 0\n",
    "yPred[yPred == -1] = 1\n",
    "\n",
    "#Count the number of  values that were wrong\n",
    "error = (yPred != target).sum()\n",
    "end = time.time()\n",
    "\n",
    "#Evaluate the results\n",
    "accu = accuracy_score(target, yPred)\n",
    "prec = precision_score(target, yPred)\n",
    "recall = recall_score(target, yPred)\n",
    "f1 = f1_score(target, yPred)\n",
    "total = end - start\n",
    "\n",
    "print(\"Isolation Forest ML Algorithm\")\n",
    "print(\"The accuracy is: \", accu)\n",
    "print(\"The Precision is: \", prec)\n",
    "print(\"The Recall is: \", recall)\n",
    "print(\"The F1-Score is: \", f1)\n",
    "print(\"\\nNumber of errors: \", error)\n",
    "print(\"\\nTime elapsed in seconds: \", total)\n",
    "\n",
    "#printing the confusion matrix for better visuals\n",
    "classes = ['Non-Fraud', 'Fraud']\n",
    "conf_matrix = confusion_matrix(target, yPred)\n",
    "plt.figure(figsize=(12, 12))\n",
    "sb.heatmap(conf_matrix, xticklabels=classes, yticklabels=classes, annot=True, fmt=\"d\");\n",
    "plt.title(\"Confusion matrix\")\n",
    "plt.ylabel('Actual')\n",
    "plt.xlabel('Predicted')\n",
    "plt.show()"
   ]
  }
 ],
 "metadata": {
  "kernelspec": {
   "display_name": "Python 3",
   "language": "python",
   "name": "python3"
  },
  "language_info": {
   "codemirror_mode": {
    "name": "ipython",
    "version": 3
   },
   "file_extension": ".py",
   "mimetype": "text/x-python",
   "name": "python",
   "nbconvert_exporter": "python",
   "pygments_lexer": "ipython3",
   "version": "3.8.5"
  }
 },
 "nbformat": 4,
 "nbformat_minor": 4
}
